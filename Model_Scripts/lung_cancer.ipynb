{
  "nbformat": 4,
  "nbformat_minor": 0,
  "metadata": {
    "colab": {
      "name": "lung cancer ",
      "provenance": [],
      "collapsed_sections": []
    },
    "kernelspec": {
      "name": "python3",
      "display_name": "Python 3"
    },
    "language_info": {
      "name": "python"
    }
  },
  "cells": [
    {
      "cell_type": "code",
      "metadata": {
        "id": "4PX3tQb22U-6"
      },
      "source": [
        "import os\n",
        "import numpy as np \n",
        "import pandas as pd \n",
        "import matplotlib.pyplot as plt\n",
        "import seaborn as sns\n",
        "from sklearn.metrics import confusion_matrix\n",
        "from sklearn.metrics import classification_report"
      ],
      "execution_count": null,
      "outputs": []
    },
    {
      "cell_type": "code",
      "metadata": {
        "id": "8ubO2nap--Zg"
      },
      "source": [
        ""
      ],
      "execution_count": null,
      "outputs": []
    },
    {
      "cell_type": "code",
      "metadata": {
        "colab": {
          "base_uri": "https://localhost:8080/",
          "height": 485
        },
        "id": "EerQ9XZB42yA",
        "outputId": "a35b65e0-0d93-4ca7-ec5a-91b81c76afb6"
      },
      "source": [
        "!pip install -U -q PyDrive\n",
        "from pydrive.auth import GoogleAuth\n",
        "from pydrive.drive import GoogleDrive\n",
        "from google.colab import auth\n",
        "from oauth2client.client import GoogleCredentials\n",
        "\n",
        "auth.authenticate_user()\n",
        "gauth = GoogleAuth()\n",
        "gauth.credentials = GoogleCredentials.get_application_default()\n",
        "drive = GoogleDrive(gauth)\n",
        "\n",
        "file_id = '1cfWmaRBcQvHnQRYGmzk2HQ0vumrjFuDf'\n",
        "downloaded = drive.CreateFile({'id': file_id})\n",
        "downloaded.GetContentFile('lung cancer dataset.zip')\n",
        "!ls -lha lung cancer dataset.zip\n",
        "!pip install -q xlrd\n",
        "\n",
        "import pandas as pd\n",
        "df = pd.read_csv('lung cancer dataset.zip')\n",
        "df"
      ],
      "execution_count": null,
      "outputs": [
        {
          "output_type": "stream",
          "text": [
            "ls: cannot access 'lung': No such file or directory\n",
            "ls: cannot access 'cancer': No such file or directory\n",
            "ls: cannot access 'dataset.zip': No such file or directory\n"
          ],
          "name": "stdout"
        },
        {
          "output_type": "execute_result",
          "data": {
            "text/html": [
              "<div>\n",
              "<style scoped>\n",
              "    .dataframe tbody tr th:only-of-type {\n",
              "        vertical-align: middle;\n",
              "    }\n",
              "\n",
              "    .dataframe tbody tr th {\n",
              "        vertical-align: top;\n",
              "    }\n",
              "\n",
              "    .dataframe thead th {\n",
              "        text-align: right;\n",
              "    }\n",
              "</style>\n",
              "<table border=\"1\" class=\"dataframe\">\n",
              "  <thead>\n",
              "    <tr style=\"text-align: right;\">\n",
              "      <th></th>\n",
              "      <th>GENDER</th>\n",
              "      <th>AGE</th>\n",
              "      <th>SMOKING</th>\n",
              "      <th>YELLOW_FINGERS</th>\n",
              "      <th>ANXIETY</th>\n",
              "      <th>PEER_PRESSURE</th>\n",
              "      <th>CHRONIC DISEASE</th>\n",
              "      <th>FATIGUE</th>\n",
              "      <th>ALLERGY</th>\n",
              "      <th>WHEEZING</th>\n",
              "      <th>ALCOHOL CONSUMING</th>\n",
              "      <th>COUGHING</th>\n",
              "      <th>SHORTNESS OF BREATH</th>\n",
              "      <th>SWALLOWING DIFFICULTY</th>\n",
              "      <th>CHEST PAIN</th>\n",
              "      <th>LUNG_CANCER</th>\n",
              "    </tr>\n",
              "  </thead>\n",
              "  <tbody>\n",
              "    <tr>\n",
              "      <th>0</th>\n",
              "      <td>M</td>\n",
              "      <td>69</td>\n",
              "      <td>1</td>\n",
              "      <td>2</td>\n",
              "      <td>2</td>\n",
              "      <td>1</td>\n",
              "      <td>1</td>\n",
              "      <td>2</td>\n",
              "      <td>1</td>\n",
              "      <td>2</td>\n",
              "      <td>2</td>\n",
              "      <td>2</td>\n",
              "      <td>2</td>\n",
              "      <td>2</td>\n",
              "      <td>2</td>\n",
              "      <td>YES</td>\n",
              "    </tr>\n",
              "    <tr>\n",
              "      <th>1</th>\n",
              "      <td>M</td>\n",
              "      <td>74</td>\n",
              "      <td>2</td>\n",
              "      <td>1</td>\n",
              "      <td>1</td>\n",
              "      <td>1</td>\n",
              "      <td>2</td>\n",
              "      <td>2</td>\n",
              "      <td>2</td>\n",
              "      <td>1</td>\n",
              "      <td>1</td>\n",
              "      <td>1</td>\n",
              "      <td>2</td>\n",
              "      <td>2</td>\n",
              "      <td>2</td>\n",
              "      <td>YES</td>\n",
              "    </tr>\n",
              "    <tr>\n",
              "      <th>2</th>\n",
              "      <td>F</td>\n",
              "      <td>59</td>\n",
              "      <td>1</td>\n",
              "      <td>1</td>\n",
              "      <td>1</td>\n",
              "      <td>2</td>\n",
              "      <td>1</td>\n",
              "      <td>2</td>\n",
              "      <td>1</td>\n",
              "      <td>2</td>\n",
              "      <td>1</td>\n",
              "      <td>2</td>\n",
              "      <td>2</td>\n",
              "      <td>1</td>\n",
              "      <td>2</td>\n",
              "      <td>NO</td>\n",
              "    </tr>\n",
              "    <tr>\n",
              "      <th>3</th>\n",
              "      <td>M</td>\n",
              "      <td>63</td>\n",
              "      <td>2</td>\n",
              "      <td>2</td>\n",
              "      <td>2</td>\n",
              "      <td>1</td>\n",
              "      <td>1</td>\n",
              "      <td>1</td>\n",
              "      <td>1</td>\n",
              "      <td>1</td>\n",
              "      <td>2</td>\n",
              "      <td>1</td>\n",
              "      <td>1</td>\n",
              "      <td>2</td>\n",
              "      <td>2</td>\n",
              "      <td>NO</td>\n",
              "    </tr>\n",
              "    <tr>\n",
              "      <th>4</th>\n",
              "      <td>F</td>\n",
              "      <td>63</td>\n",
              "      <td>1</td>\n",
              "      <td>2</td>\n",
              "      <td>1</td>\n",
              "      <td>1</td>\n",
              "      <td>1</td>\n",
              "      <td>1</td>\n",
              "      <td>1</td>\n",
              "      <td>2</td>\n",
              "      <td>1</td>\n",
              "      <td>2</td>\n",
              "      <td>2</td>\n",
              "      <td>1</td>\n",
              "      <td>1</td>\n",
              "      <td>NO</td>\n",
              "    </tr>\n",
              "    <tr>\n",
              "      <th>...</th>\n",
              "      <td>...</td>\n",
              "      <td>...</td>\n",
              "      <td>...</td>\n",
              "      <td>...</td>\n",
              "      <td>...</td>\n",
              "      <td>...</td>\n",
              "      <td>...</td>\n",
              "      <td>...</td>\n",
              "      <td>...</td>\n",
              "      <td>...</td>\n",
              "      <td>...</td>\n",
              "      <td>...</td>\n",
              "      <td>...</td>\n",
              "      <td>...</td>\n",
              "      <td>...</td>\n",
              "      <td>...</td>\n",
              "    </tr>\n",
              "    <tr>\n",
              "      <th>304</th>\n",
              "      <td>F</td>\n",
              "      <td>56</td>\n",
              "      <td>1</td>\n",
              "      <td>1</td>\n",
              "      <td>1</td>\n",
              "      <td>2</td>\n",
              "      <td>2</td>\n",
              "      <td>2</td>\n",
              "      <td>1</td>\n",
              "      <td>1</td>\n",
              "      <td>2</td>\n",
              "      <td>2</td>\n",
              "      <td>2</td>\n",
              "      <td>2</td>\n",
              "      <td>1</td>\n",
              "      <td>YES</td>\n",
              "    </tr>\n",
              "    <tr>\n",
              "      <th>305</th>\n",
              "      <td>M</td>\n",
              "      <td>70</td>\n",
              "      <td>2</td>\n",
              "      <td>1</td>\n",
              "      <td>1</td>\n",
              "      <td>1</td>\n",
              "      <td>1</td>\n",
              "      <td>2</td>\n",
              "      <td>2</td>\n",
              "      <td>2</td>\n",
              "      <td>2</td>\n",
              "      <td>2</td>\n",
              "      <td>2</td>\n",
              "      <td>1</td>\n",
              "      <td>2</td>\n",
              "      <td>YES</td>\n",
              "    </tr>\n",
              "    <tr>\n",
              "      <th>306</th>\n",
              "      <td>M</td>\n",
              "      <td>58</td>\n",
              "      <td>2</td>\n",
              "      <td>1</td>\n",
              "      <td>1</td>\n",
              "      <td>1</td>\n",
              "      <td>1</td>\n",
              "      <td>1</td>\n",
              "      <td>2</td>\n",
              "      <td>2</td>\n",
              "      <td>2</td>\n",
              "      <td>2</td>\n",
              "      <td>1</td>\n",
              "      <td>1</td>\n",
              "      <td>2</td>\n",
              "      <td>YES</td>\n",
              "    </tr>\n",
              "    <tr>\n",
              "      <th>307</th>\n",
              "      <td>M</td>\n",
              "      <td>67</td>\n",
              "      <td>2</td>\n",
              "      <td>1</td>\n",
              "      <td>2</td>\n",
              "      <td>1</td>\n",
              "      <td>1</td>\n",
              "      <td>2</td>\n",
              "      <td>2</td>\n",
              "      <td>1</td>\n",
              "      <td>2</td>\n",
              "      <td>2</td>\n",
              "      <td>2</td>\n",
              "      <td>1</td>\n",
              "      <td>2</td>\n",
              "      <td>YES</td>\n",
              "    </tr>\n",
              "    <tr>\n",
              "      <th>308</th>\n",
              "      <td>M</td>\n",
              "      <td>62</td>\n",
              "      <td>1</td>\n",
              "      <td>1</td>\n",
              "      <td>1</td>\n",
              "      <td>2</td>\n",
              "      <td>1</td>\n",
              "      <td>2</td>\n",
              "      <td>2</td>\n",
              "      <td>2</td>\n",
              "      <td>2</td>\n",
              "      <td>1</td>\n",
              "      <td>1</td>\n",
              "      <td>2</td>\n",
              "      <td>1</td>\n",
              "      <td>YES</td>\n",
              "    </tr>\n",
              "  </tbody>\n",
              "</table>\n",
              "<p>309 rows × 16 columns</p>\n",
              "</div>"
            ],
            "text/plain": [
              "    GENDER  AGE  SMOKING  ...  SWALLOWING DIFFICULTY  CHEST PAIN  LUNG_CANCER\n",
              "0        M   69        1  ...                      2           2          YES\n",
              "1        M   74        2  ...                      2           2          YES\n",
              "2        F   59        1  ...                      1           2           NO\n",
              "3        M   63        2  ...                      2           2           NO\n",
              "4        F   63        1  ...                      1           1           NO\n",
              "..     ...  ...      ...  ...                    ...         ...          ...\n",
              "304      F   56        1  ...                      2           1          YES\n",
              "305      M   70        2  ...                      1           2          YES\n",
              "306      M   58        2  ...                      1           2          YES\n",
              "307      M   67        2  ...                      1           2          YES\n",
              "308      M   62        1  ...                      2           1          YES\n",
              "\n",
              "[309 rows x 16 columns]"
            ]
          },
          "metadata": {
            "tags": []
          },
          "execution_count": 2
        }
      ]
    },
    {
      "cell_type": "code",
      "metadata": {
        "colab": {
          "base_uri": "https://localhost:8080/"
        },
        "id": "QAvX3H5B5JcV",
        "outputId": "8b49e5c4-7477-4fde-f957-ff5462dc90a0"
      },
      "source": [
        "df.columns"
      ],
      "execution_count": null,
      "outputs": [
        {
          "output_type": "execute_result",
          "data": {
            "text/plain": [
              "Index(['GENDER', 'AGE', 'SMOKING', 'YELLOW_FINGERS', 'ANXIETY',\n",
              "       'PEER_PRESSURE', 'CHRONIC DISEASE', 'FATIGUE ', 'ALLERGY ', 'WHEEZING',\n",
              "       'ALCOHOL CONSUMING', 'COUGHING', 'SHORTNESS OF BREATH',\n",
              "       'SWALLOWING DIFFICULTY', 'CHEST PAIN', 'LUNG_CANCER'],\n",
              "      dtype='object')"
            ]
          },
          "metadata": {
            "tags": []
          },
          "execution_count": 3
        }
      ]
    },
    {
      "cell_type": "code",
      "metadata": {
        "colab": {
          "base_uri": "https://localhost:8080/",
          "height": 165
        },
        "id": "uRtH7wAw_ytw",
        "outputId": "a8209844-05b1-4ec3-eb43-6f33a18d796f"
      },
      "source": [
        "df.head()"
      ],
      "execution_count": null,
      "outputs": [
        {
          "output_type": "error",
          "ename": "NameError",
          "evalue": "ignored",
          "traceback": [
            "\u001b[0;31m---------------------------------------------------------------------------\u001b[0m",
            "\u001b[0;31mNameError\u001b[0m                                 Traceback (most recent call last)",
            "\u001b[0;32m<ipython-input-1-c42a15b2c7cf>\u001b[0m in \u001b[0;36m<module>\u001b[0;34m()\u001b[0m\n\u001b[0;32m----> 1\u001b[0;31m \u001b[0mdf\u001b[0m\u001b[0;34m.\u001b[0m\u001b[0mhead\u001b[0m\u001b[0;34m(\u001b[0m\u001b[0;34m)\u001b[0m\u001b[0;34m\u001b[0m\u001b[0;34m\u001b[0m\u001b[0m\n\u001b[0m",
            "\u001b[0;31mNameError\u001b[0m: name 'df' is not defined"
          ]
        }
      ]
    },
    {
      "cell_type": "code",
      "metadata": {
        "colab": {
          "base_uri": "https://localhost:8080/"
        },
        "id": "bZQ8f65I4hhN",
        "outputId": "61c9af46-5469-4f6a-dcb4-df3117294018"
      },
      "source": [
        "df.info()"
      ],
      "execution_count": null,
      "outputs": [
        {
          "output_type": "stream",
          "text": [
            "<class 'pandas.core.frame.DataFrame'>\n",
            "RangeIndex: 309 entries, 0 to 308\n",
            "Data columns (total 15 columns):\n",
            " #   Column                 Non-Null Count  Dtype\n",
            "---  ------                 --------------  -----\n",
            " 0   AGE                    309 non-null    int64\n",
            " 1   SMOKING                309 non-null    int64\n",
            " 2   YELLOW_FINGERS         309 non-null    int64\n",
            " 3   ANXIETY                309 non-null    int64\n",
            " 4   PEER_PRESSURE          309 non-null    int64\n",
            " 5   CHRONIC DISEASE        309 non-null    int64\n",
            " 6   FATIGUE                309 non-null    int64\n",
            " 7   ALLERGY                309 non-null    int64\n",
            " 8   WHEEZING               309 non-null    int64\n",
            " 9   ALCOHOL CONSUMING      309 non-null    int64\n",
            " 10  COUGHING               309 non-null    int64\n",
            " 11  SHORTNESS OF BREATH    309 non-null    int64\n",
            " 12  SWALLOWING DIFFICULTY  309 non-null    int64\n",
            " 13  CHEST PAIN             309 non-null    int64\n",
            " 14  LUNG_CANCER            309 non-null    int64\n",
            "dtypes: int64(15)\n",
            "memory usage: 36.3 KB\n"
          ],
          "name": "stdout"
        }
      ]
    },
    {
      "cell_type": "code",
      "metadata": {
        "colab": {
          "base_uri": "https://localhost:8080/"
        },
        "id": "XSjYxNBfAhcE",
        "outputId": "c47e710f-47d3-415b-fbb6-266b46badea0"
      },
      "source": [
        "all_cols=df.columns\n",
        "numerical_cols=df._get_numeric_data().columns.to_list()\n",
        "numerical_cols\n",
        "\n",
        "\n"
      ],
      "execution_count": null,
      "outputs": [
        {
          "output_type": "execute_result",
          "data": {
            "text/plain": [
              "['AGE',\n",
              " 'SMOKING',\n",
              " 'YELLOW_FINGERS',\n",
              " 'ANXIETY',\n",
              " 'PEER_PRESSURE',\n",
              " 'CHRONIC DISEASE',\n",
              " 'FATIGUE ',\n",
              " 'ALLERGY ',\n",
              " 'WHEEZING',\n",
              " 'ALCOHOL CONSUMING',\n",
              " 'COUGHING',\n",
              " 'SHORTNESS OF BREATH',\n",
              " 'SWALLOWING DIFFICULTY',\n",
              " 'CHEST PAIN']"
            ]
          },
          "metadata": {
            "tags": []
          },
          "execution_count": 6
        }
      ]
    },
    {
      "cell_type": "code",
      "metadata": {
        "colab": {
          "base_uri": "https://localhost:8080/"
        },
        "id": "DTGSDTi0BfGQ",
        "outputId": "579c1ff8-5fb3-458e-bc08-2dec53d19280"
      },
      "source": [
        "categorical_cols=list(set(all_cols)-set(numerical_cols))\n",
        "categorical_cols"
      ],
      "execution_count": null,
      "outputs": [
        {
          "output_type": "execute_result",
          "data": {
            "text/plain": [
              "['GENDER', 'LUNG_CANCER']"
            ]
          },
          "metadata": {
            "tags": []
          },
          "execution_count": 7
        }
      ]
    },
    {
      "cell_type": "code",
      "metadata": {
        "id": "k7RtfbnUD_vO"
      },
      "source": [
        "df.drop(['GENDER'], inplace=True, axis=1)    #dropping the catagorical coloumn"
      ],
      "execution_count": null,
      "outputs": []
    },
    {
      "cell_type": "code",
      "metadata": {
        "colab": {
          "base_uri": "https://localhost:8080/",
          "height": 433
        },
        "id": "VDdd1paNEh-h",
        "outputId": "0783d79e-956b-4bc4-efe4-8cc95d14238c"
      },
      "source": [
        "df"
      ],
      "execution_count": null,
      "outputs": [
        {
          "output_type": "execute_result",
          "data": {
            "text/html": [
              "<div>\n",
              "<style scoped>\n",
              "    .dataframe tbody tr th:only-of-type {\n",
              "        vertical-align: middle;\n",
              "    }\n",
              "\n",
              "    .dataframe tbody tr th {\n",
              "        vertical-align: top;\n",
              "    }\n",
              "\n",
              "    .dataframe thead th {\n",
              "        text-align: right;\n",
              "    }\n",
              "</style>\n",
              "<table border=\"1\" class=\"dataframe\">\n",
              "  <thead>\n",
              "    <tr style=\"text-align: right;\">\n",
              "      <th></th>\n",
              "      <th>AGE</th>\n",
              "      <th>SMOKING</th>\n",
              "      <th>YELLOW_FINGERS</th>\n",
              "      <th>ANXIETY</th>\n",
              "      <th>PEER_PRESSURE</th>\n",
              "      <th>CHRONIC DISEASE</th>\n",
              "      <th>FATIGUE</th>\n",
              "      <th>ALLERGY</th>\n",
              "      <th>WHEEZING</th>\n",
              "      <th>ALCOHOL CONSUMING</th>\n",
              "      <th>COUGHING</th>\n",
              "      <th>SHORTNESS OF BREATH</th>\n",
              "      <th>SWALLOWING DIFFICULTY</th>\n",
              "      <th>CHEST PAIN</th>\n",
              "      <th>LUNG_CANCER</th>\n",
              "    </tr>\n",
              "  </thead>\n",
              "  <tbody>\n",
              "    <tr>\n",
              "      <th>0</th>\n",
              "      <td>69</td>\n",
              "      <td>1</td>\n",
              "      <td>2</td>\n",
              "      <td>2</td>\n",
              "      <td>1</td>\n",
              "      <td>1</td>\n",
              "      <td>2</td>\n",
              "      <td>1</td>\n",
              "      <td>2</td>\n",
              "      <td>2</td>\n",
              "      <td>2</td>\n",
              "      <td>2</td>\n",
              "      <td>2</td>\n",
              "      <td>2</td>\n",
              "      <td>1</td>\n",
              "    </tr>\n",
              "    <tr>\n",
              "      <th>1</th>\n",
              "      <td>74</td>\n",
              "      <td>2</td>\n",
              "      <td>1</td>\n",
              "      <td>1</td>\n",
              "      <td>1</td>\n",
              "      <td>2</td>\n",
              "      <td>2</td>\n",
              "      <td>2</td>\n",
              "      <td>1</td>\n",
              "      <td>1</td>\n",
              "      <td>1</td>\n",
              "      <td>2</td>\n",
              "      <td>2</td>\n",
              "      <td>2</td>\n",
              "      <td>1</td>\n",
              "    </tr>\n",
              "    <tr>\n",
              "      <th>2</th>\n",
              "      <td>59</td>\n",
              "      <td>1</td>\n",
              "      <td>1</td>\n",
              "      <td>1</td>\n",
              "      <td>2</td>\n",
              "      <td>1</td>\n",
              "      <td>2</td>\n",
              "      <td>1</td>\n",
              "      <td>2</td>\n",
              "      <td>1</td>\n",
              "      <td>2</td>\n",
              "      <td>2</td>\n",
              "      <td>1</td>\n",
              "      <td>2</td>\n",
              "      <td>0</td>\n",
              "    </tr>\n",
              "    <tr>\n",
              "      <th>3</th>\n",
              "      <td>63</td>\n",
              "      <td>2</td>\n",
              "      <td>2</td>\n",
              "      <td>2</td>\n",
              "      <td>1</td>\n",
              "      <td>1</td>\n",
              "      <td>1</td>\n",
              "      <td>1</td>\n",
              "      <td>1</td>\n",
              "      <td>2</td>\n",
              "      <td>1</td>\n",
              "      <td>1</td>\n",
              "      <td>2</td>\n",
              "      <td>2</td>\n",
              "      <td>0</td>\n",
              "    </tr>\n",
              "    <tr>\n",
              "      <th>4</th>\n",
              "      <td>63</td>\n",
              "      <td>1</td>\n",
              "      <td>2</td>\n",
              "      <td>1</td>\n",
              "      <td>1</td>\n",
              "      <td>1</td>\n",
              "      <td>1</td>\n",
              "      <td>1</td>\n",
              "      <td>2</td>\n",
              "      <td>1</td>\n",
              "      <td>2</td>\n",
              "      <td>2</td>\n",
              "      <td>1</td>\n",
              "      <td>1</td>\n",
              "      <td>0</td>\n",
              "    </tr>\n",
              "    <tr>\n",
              "      <th>...</th>\n",
              "      <td>...</td>\n",
              "      <td>...</td>\n",
              "      <td>...</td>\n",
              "      <td>...</td>\n",
              "      <td>...</td>\n",
              "      <td>...</td>\n",
              "      <td>...</td>\n",
              "      <td>...</td>\n",
              "      <td>...</td>\n",
              "      <td>...</td>\n",
              "      <td>...</td>\n",
              "      <td>...</td>\n",
              "      <td>...</td>\n",
              "      <td>...</td>\n",
              "      <td>...</td>\n",
              "    </tr>\n",
              "    <tr>\n",
              "      <th>304</th>\n",
              "      <td>56</td>\n",
              "      <td>1</td>\n",
              "      <td>1</td>\n",
              "      <td>1</td>\n",
              "      <td>2</td>\n",
              "      <td>2</td>\n",
              "      <td>2</td>\n",
              "      <td>1</td>\n",
              "      <td>1</td>\n",
              "      <td>2</td>\n",
              "      <td>2</td>\n",
              "      <td>2</td>\n",
              "      <td>2</td>\n",
              "      <td>1</td>\n",
              "      <td>1</td>\n",
              "    </tr>\n",
              "    <tr>\n",
              "      <th>305</th>\n",
              "      <td>70</td>\n",
              "      <td>2</td>\n",
              "      <td>1</td>\n",
              "      <td>1</td>\n",
              "      <td>1</td>\n",
              "      <td>1</td>\n",
              "      <td>2</td>\n",
              "      <td>2</td>\n",
              "      <td>2</td>\n",
              "      <td>2</td>\n",
              "      <td>2</td>\n",
              "      <td>2</td>\n",
              "      <td>1</td>\n",
              "      <td>2</td>\n",
              "      <td>1</td>\n",
              "    </tr>\n",
              "    <tr>\n",
              "      <th>306</th>\n",
              "      <td>58</td>\n",
              "      <td>2</td>\n",
              "      <td>1</td>\n",
              "      <td>1</td>\n",
              "      <td>1</td>\n",
              "      <td>1</td>\n",
              "      <td>1</td>\n",
              "      <td>2</td>\n",
              "      <td>2</td>\n",
              "      <td>2</td>\n",
              "      <td>2</td>\n",
              "      <td>1</td>\n",
              "      <td>1</td>\n",
              "      <td>2</td>\n",
              "      <td>1</td>\n",
              "    </tr>\n",
              "    <tr>\n",
              "      <th>307</th>\n",
              "      <td>67</td>\n",
              "      <td>2</td>\n",
              "      <td>1</td>\n",
              "      <td>2</td>\n",
              "      <td>1</td>\n",
              "      <td>1</td>\n",
              "      <td>2</td>\n",
              "      <td>2</td>\n",
              "      <td>1</td>\n",
              "      <td>2</td>\n",
              "      <td>2</td>\n",
              "      <td>2</td>\n",
              "      <td>1</td>\n",
              "      <td>2</td>\n",
              "      <td>1</td>\n",
              "    </tr>\n",
              "    <tr>\n",
              "      <th>308</th>\n",
              "      <td>62</td>\n",
              "      <td>1</td>\n",
              "      <td>1</td>\n",
              "      <td>1</td>\n",
              "      <td>2</td>\n",
              "      <td>1</td>\n",
              "      <td>2</td>\n",
              "      <td>2</td>\n",
              "      <td>2</td>\n",
              "      <td>2</td>\n",
              "      <td>1</td>\n",
              "      <td>1</td>\n",
              "      <td>2</td>\n",
              "      <td>1</td>\n",
              "      <td>1</td>\n",
              "    </tr>\n",
              "  </tbody>\n",
              "</table>\n",
              "<p>309 rows × 15 columns</p>\n",
              "</div>"
            ],
            "text/plain": [
              "     AGE  SMOKING  ...  CHEST PAIN  LUNG_CANCER\n",
              "0     69        1  ...           2            1\n",
              "1     74        2  ...           2            1\n",
              "2     59        1  ...           2            0\n",
              "3     63        2  ...           2            0\n",
              "4     63        1  ...           1            0\n",
              "..   ...      ...  ...         ...          ...\n",
              "304   56        1  ...           1            1\n",
              "305   70        2  ...           2            1\n",
              "306   58        2  ...           2            1\n",
              "307   67        2  ...           2            1\n",
              "308   62        1  ...           1            1\n",
              "\n",
              "[309 rows x 15 columns]"
            ]
          },
          "metadata": {
            "tags": []
          },
          "execution_count": 32
        }
      ]
    },
    {
      "cell_type": "code",
      "metadata": {
        "colab": {
          "base_uri": "https://localhost:8080/"
        },
        "id": "O1Xeu18U7x8S",
        "outputId": "95b6abd2-6a2f-4eb1-a14f-7bb630319174"
      },
      "source": [
        "df.shape"
      ],
      "execution_count": null,
      "outputs": [
        {
          "output_type": "execute_result",
          "data": {
            "text/plain": [
              "(309, 15)"
            ]
          },
          "metadata": {
            "tags": []
          },
          "execution_count": 33
        }
      ]
    },
    {
      "cell_type": "code",
      "metadata": {
        "colab": {
          "base_uri": "https://localhost:8080/",
          "height": 220
        },
        "id": "Aj6FCxFf97Mb",
        "outputId": "394ba6a6-b0ec-46fa-a76e-f47cf0483e3f"
      },
      "source": [
        "#lets work on first few rows\n",
        "df.head()"
      ],
      "execution_count": null,
      "outputs": [
        {
          "output_type": "execute_result",
          "data": {
            "text/html": [
              "<div>\n",
              "<style scoped>\n",
              "    .dataframe tbody tr th:only-of-type {\n",
              "        vertical-align: middle;\n",
              "    }\n",
              "\n",
              "    .dataframe tbody tr th {\n",
              "        vertical-align: top;\n",
              "    }\n",
              "\n",
              "    .dataframe thead th {\n",
              "        text-align: right;\n",
              "    }\n",
              "</style>\n",
              "<table border=\"1\" class=\"dataframe\">\n",
              "  <thead>\n",
              "    <tr style=\"text-align: right;\">\n",
              "      <th></th>\n",
              "      <th>AGE</th>\n",
              "      <th>SMOKING</th>\n",
              "      <th>YELLOW_FINGERS</th>\n",
              "      <th>ANXIETY</th>\n",
              "      <th>PEER_PRESSURE</th>\n",
              "      <th>CHRONIC DISEASE</th>\n",
              "      <th>FATIGUE</th>\n",
              "      <th>ALLERGY</th>\n",
              "      <th>WHEEZING</th>\n",
              "      <th>ALCOHOL CONSUMING</th>\n",
              "      <th>COUGHING</th>\n",
              "      <th>SHORTNESS OF BREATH</th>\n",
              "      <th>SWALLOWING DIFFICULTY</th>\n",
              "      <th>CHEST PAIN</th>\n",
              "      <th>LUNG_CANCER</th>\n",
              "    </tr>\n",
              "  </thead>\n",
              "  <tbody>\n",
              "    <tr>\n",
              "      <th>0</th>\n",
              "      <td>69</td>\n",
              "      <td>1</td>\n",
              "      <td>2</td>\n",
              "      <td>2</td>\n",
              "      <td>1</td>\n",
              "      <td>1</td>\n",
              "      <td>2</td>\n",
              "      <td>1</td>\n",
              "      <td>2</td>\n",
              "      <td>2</td>\n",
              "      <td>2</td>\n",
              "      <td>2</td>\n",
              "      <td>2</td>\n",
              "      <td>2</td>\n",
              "      <td>YES</td>\n",
              "    </tr>\n",
              "    <tr>\n",
              "      <th>1</th>\n",
              "      <td>74</td>\n",
              "      <td>2</td>\n",
              "      <td>1</td>\n",
              "      <td>1</td>\n",
              "      <td>1</td>\n",
              "      <td>2</td>\n",
              "      <td>2</td>\n",
              "      <td>2</td>\n",
              "      <td>1</td>\n",
              "      <td>1</td>\n",
              "      <td>1</td>\n",
              "      <td>2</td>\n",
              "      <td>2</td>\n",
              "      <td>2</td>\n",
              "      <td>YES</td>\n",
              "    </tr>\n",
              "    <tr>\n",
              "      <th>2</th>\n",
              "      <td>59</td>\n",
              "      <td>1</td>\n",
              "      <td>1</td>\n",
              "      <td>1</td>\n",
              "      <td>2</td>\n",
              "      <td>1</td>\n",
              "      <td>2</td>\n",
              "      <td>1</td>\n",
              "      <td>2</td>\n",
              "      <td>1</td>\n",
              "      <td>2</td>\n",
              "      <td>2</td>\n",
              "      <td>1</td>\n",
              "      <td>2</td>\n",
              "      <td>NO</td>\n",
              "    </tr>\n",
              "    <tr>\n",
              "      <th>3</th>\n",
              "      <td>63</td>\n",
              "      <td>2</td>\n",
              "      <td>2</td>\n",
              "      <td>2</td>\n",
              "      <td>1</td>\n",
              "      <td>1</td>\n",
              "      <td>1</td>\n",
              "      <td>1</td>\n",
              "      <td>1</td>\n",
              "      <td>2</td>\n",
              "      <td>1</td>\n",
              "      <td>1</td>\n",
              "      <td>2</td>\n",
              "      <td>2</td>\n",
              "      <td>NO</td>\n",
              "    </tr>\n",
              "    <tr>\n",
              "      <th>4</th>\n",
              "      <td>63</td>\n",
              "      <td>1</td>\n",
              "      <td>2</td>\n",
              "      <td>1</td>\n",
              "      <td>1</td>\n",
              "      <td>1</td>\n",
              "      <td>1</td>\n",
              "      <td>1</td>\n",
              "      <td>2</td>\n",
              "      <td>1</td>\n",
              "      <td>2</td>\n",
              "      <td>2</td>\n",
              "      <td>1</td>\n",
              "      <td>1</td>\n",
              "      <td>NO</td>\n",
              "    </tr>\n",
              "  </tbody>\n",
              "</table>\n",
              "</div>"
            ],
            "text/plain": [
              "   AGE  SMOKING  YELLOW_FINGERS  ...  SWALLOWING DIFFICULTY  CHEST PAIN  LUNG_CANCER\n",
              "0   69        1               2  ...                      2           2          YES\n",
              "1   74        2               1  ...                      2           2          YES\n",
              "2   59        1               1  ...                      1           2           NO\n",
              "3   63        2               2  ...                      2           2           NO\n",
              "4   63        1               2  ...                      1           1           NO\n",
              "\n",
              "[5 rows x 15 columns]"
            ]
          },
          "metadata": {
            "tags": []
          },
          "execution_count": 10
        }
      ]
    },
    {
      "cell_type": "code",
      "metadata": {
        "colab": {
          "base_uri": "https://localhost:8080/",
          "height": 616
        },
        "id": "Vmccx32W-VWE",
        "outputId": "f9e143cb-ad73-4f5c-c5ac-a91ca0c4d9e2"
      },
      "source": [
        "#Pairwise correlation of all columns in the dataframe.\n",
        "df.corr() #convert all the values so that it will represent b/w -1 and +1\n"
      ],
      "execution_count": null,
      "outputs": [
        {
          "output_type": "execute_result",
          "data": {
            "text/html": [
              "<div>\n",
              "<style scoped>\n",
              "    .dataframe tbody tr th:only-of-type {\n",
              "        vertical-align: middle;\n",
              "    }\n",
              "\n",
              "    .dataframe tbody tr th {\n",
              "        vertical-align: top;\n",
              "    }\n",
              "\n",
              "    .dataframe thead th {\n",
              "        text-align: right;\n",
              "    }\n",
              "</style>\n",
              "<table border=\"1\" class=\"dataframe\">\n",
              "  <thead>\n",
              "    <tr style=\"text-align: right;\">\n",
              "      <th></th>\n",
              "      <th>AGE</th>\n",
              "      <th>SMOKING</th>\n",
              "      <th>YELLOW_FINGERS</th>\n",
              "      <th>ANXIETY</th>\n",
              "      <th>PEER_PRESSURE</th>\n",
              "      <th>CHRONIC DISEASE</th>\n",
              "      <th>FATIGUE</th>\n",
              "      <th>ALLERGY</th>\n",
              "      <th>WHEEZING</th>\n",
              "      <th>ALCOHOL CONSUMING</th>\n",
              "      <th>COUGHING</th>\n",
              "      <th>SHORTNESS OF BREATH</th>\n",
              "      <th>SWALLOWING DIFFICULTY</th>\n",
              "      <th>CHEST PAIN</th>\n",
              "      <th>LUNG_CANCER</th>\n",
              "    </tr>\n",
              "  </thead>\n",
              "  <tbody>\n",
              "    <tr>\n",
              "      <th>AGE</th>\n",
              "      <td>1.000000</td>\n",
              "      <td>-0.084475</td>\n",
              "      <td>0.005205</td>\n",
              "      <td>0.053170</td>\n",
              "      <td>0.018685</td>\n",
              "      <td>-0.012642</td>\n",
              "      <td>0.012614</td>\n",
              "      <td>0.027990</td>\n",
              "      <td>0.055011</td>\n",
              "      <td>0.058985</td>\n",
              "      <td>0.169950</td>\n",
              "      <td>-0.017513</td>\n",
              "      <td>-0.001270</td>\n",
              "      <td>-0.018104</td>\n",
              "      <td>0.089465</td>\n",
              "    </tr>\n",
              "    <tr>\n",
              "      <th>SMOKING</th>\n",
              "      <td>-0.084475</td>\n",
              "      <td>1.000000</td>\n",
              "      <td>-0.014585</td>\n",
              "      <td>0.160267</td>\n",
              "      <td>-0.042822</td>\n",
              "      <td>-0.141522</td>\n",
              "      <td>-0.029575</td>\n",
              "      <td>0.001913</td>\n",
              "      <td>-0.129426</td>\n",
              "      <td>-0.050623</td>\n",
              "      <td>-0.129471</td>\n",
              "      <td>0.061264</td>\n",
              "      <td>0.030718</td>\n",
              "      <td>0.120117</td>\n",
              "      <td>0.058179</td>\n",
              "    </tr>\n",
              "    <tr>\n",
              "      <th>YELLOW_FINGERS</th>\n",
              "      <td>0.005205</td>\n",
              "      <td>-0.014585</td>\n",
              "      <td>1.000000</td>\n",
              "      <td>0.565829</td>\n",
              "      <td>0.323083</td>\n",
              "      <td>0.041122</td>\n",
              "      <td>-0.118058</td>\n",
              "      <td>-0.144300</td>\n",
              "      <td>-0.078515</td>\n",
              "      <td>-0.289025</td>\n",
              "      <td>-0.012640</td>\n",
              "      <td>-0.105944</td>\n",
              "      <td>0.345904</td>\n",
              "      <td>-0.104829</td>\n",
              "      <td>0.181339</td>\n",
              "    </tr>\n",
              "    <tr>\n",
              "      <th>ANXIETY</th>\n",
              "      <td>0.053170</td>\n",
              "      <td>0.160267</td>\n",
              "      <td>0.565829</td>\n",
              "      <td>1.000000</td>\n",
              "      <td>0.216841</td>\n",
              "      <td>-0.009678</td>\n",
              "      <td>-0.188538</td>\n",
              "      <td>-0.165750</td>\n",
              "      <td>-0.191807</td>\n",
              "      <td>-0.165750</td>\n",
              "      <td>-0.225644</td>\n",
              "      <td>-0.144077</td>\n",
              "      <td>0.489403</td>\n",
              "      <td>-0.113634</td>\n",
              "      <td>0.144947</td>\n",
              "    </tr>\n",
              "    <tr>\n",
              "      <th>PEER_PRESSURE</th>\n",
              "      <td>0.018685</td>\n",
              "      <td>-0.042822</td>\n",
              "      <td>0.323083</td>\n",
              "      <td>0.216841</td>\n",
              "      <td>1.000000</td>\n",
              "      <td>0.048515</td>\n",
              "      <td>0.078148</td>\n",
              "      <td>-0.081800</td>\n",
              "      <td>-0.068771</td>\n",
              "      <td>-0.159973</td>\n",
              "      <td>-0.089019</td>\n",
              "      <td>-0.220175</td>\n",
              "      <td>0.366590</td>\n",
              "      <td>-0.094828</td>\n",
              "      <td>0.186388</td>\n",
              "    </tr>\n",
              "    <tr>\n",
              "      <th>CHRONIC DISEASE</th>\n",
              "      <td>-0.012642</td>\n",
              "      <td>-0.141522</td>\n",
              "      <td>0.041122</td>\n",
              "      <td>-0.009678</td>\n",
              "      <td>0.048515</td>\n",
              "      <td>1.000000</td>\n",
              "      <td>-0.110529</td>\n",
              "      <td>0.106386</td>\n",
              "      <td>-0.049967</td>\n",
              "      <td>0.002150</td>\n",
              "      <td>-0.175287</td>\n",
              "      <td>-0.026459</td>\n",
              "      <td>0.075176</td>\n",
              "      <td>-0.036938</td>\n",
              "      <td>0.110891</td>\n",
              "    </tr>\n",
              "    <tr>\n",
              "      <th>FATIGUE</th>\n",
              "      <td>0.012614</td>\n",
              "      <td>-0.029575</td>\n",
              "      <td>-0.118058</td>\n",
              "      <td>-0.188538</td>\n",
              "      <td>0.078148</td>\n",
              "      <td>-0.110529</td>\n",
              "      <td>1.000000</td>\n",
              "      <td>0.003056</td>\n",
              "      <td>0.141937</td>\n",
              "      <td>-0.191377</td>\n",
              "      <td>0.146856</td>\n",
              "      <td>0.441745</td>\n",
              "      <td>-0.132790</td>\n",
              "      <td>-0.010832</td>\n",
              "      <td>0.150673</td>\n",
              "    </tr>\n",
              "    <tr>\n",
              "      <th>ALLERGY</th>\n",
              "      <td>0.027990</td>\n",
              "      <td>0.001913</td>\n",
              "      <td>-0.144300</td>\n",
              "      <td>-0.165750</td>\n",
              "      <td>-0.081800</td>\n",
              "      <td>0.106386</td>\n",
              "      <td>0.003056</td>\n",
              "      <td>1.000000</td>\n",
              "      <td>0.173867</td>\n",
              "      <td>0.344339</td>\n",
              "      <td>0.189524</td>\n",
              "      <td>-0.030056</td>\n",
              "      <td>-0.061508</td>\n",
              "      <td>0.239433</td>\n",
              "      <td>0.327766</td>\n",
              "    </tr>\n",
              "    <tr>\n",
              "      <th>WHEEZING</th>\n",
              "      <td>0.055011</td>\n",
              "      <td>-0.129426</td>\n",
              "      <td>-0.078515</td>\n",
              "      <td>-0.191807</td>\n",
              "      <td>-0.068771</td>\n",
              "      <td>-0.049967</td>\n",
              "      <td>0.141937</td>\n",
              "      <td>0.173867</td>\n",
              "      <td>1.000000</td>\n",
              "      <td>0.265659</td>\n",
              "      <td>0.374265</td>\n",
              "      <td>0.037834</td>\n",
              "      <td>0.069027</td>\n",
              "      <td>0.147640</td>\n",
              "      <td>0.249300</td>\n",
              "    </tr>\n",
              "    <tr>\n",
              "      <th>ALCOHOL CONSUMING</th>\n",
              "      <td>0.058985</td>\n",
              "      <td>-0.050623</td>\n",
              "      <td>-0.289025</td>\n",
              "      <td>-0.165750</td>\n",
              "      <td>-0.159973</td>\n",
              "      <td>0.002150</td>\n",
              "      <td>-0.191377</td>\n",
              "      <td>0.344339</td>\n",
              "      <td>0.265659</td>\n",
              "      <td>1.000000</td>\n",
              "      <td>0.202720</td>\n",
              "      <td>-0.179416</td>\n",
              "      <td>-0.009294</td>\n",
              "      <td>0.331226</td>\n",
              "      <td>0.288533</td>\n",
              "    </tr>\n",
              "    <tr>\n",
              "      <th>COUGHING</th>\n",
              "      <td>0.169950</td>\n",
              "      <td>-0.129471</td>\n",
              "      <td>-0.012640</td>\n",
              "      <td>-0.225644</td>\n",
              "      <td>-0.089019</td>\n",
              "      <td>-0.175287</td>\n",
              "      <td>0.146856</td>\n",
              "      <td>0.189524</td>\n",
              "      <td>0.374265</td>\n",
              "      <td>0.202720</td>\n",
              "      <td>1.000000</td>\n",
              "      <td>0.277385</td>\n",
              "      <td>-0.157586</td>\n",
              "      <td>0.083958</td>\n",
              "      <td>0.248570</td>\n",
              "    </tr>\n",
              "    <tr>\n",
              "      <th>SHORTNESS OF BREATH</th>\n",
              "      <td>-0.017513</td>\n",
              "      <td>0.061264</td>\n",
              "      <td>-0.105944</td>\n",
              "      <td>-0.144077</td>\n",
              "      <td>-0.220175</td>\n",
              "      <td>-0.026459</td>\n",
              "      <td>0.441745</td>\n",
              "      <td>-0.030056</td>\n",
              "      <td>0.037834</td>\n",
              "      <td>-0.179416</td>\n",
              "      <td>0.277385</td>\n",
              "      <td>1.000000</td>\n",
              "      <td>-0.161015</td>\n",
              "      <td>0.024256</td>\n",
              "      <td>0.060738</td>\n",
              "    </tr>\n",
              "    <tr>\n",
              "      <th>SWALLOWING DIFFICULTY</th>\n",
              "      <td>-0.001270</td>\n",
              "      <td>0.030718</td>\n",
              "      <td>0.345904</td>\n",
              "      <td>0.489403</td>\n",
              "      <td>0.366590</td>\n",
              "      <td>0.075176</td>\n",
              "      <td>-0.132790</td>\n",
              "      <td>-0.061508</td>\n",
              "      <td>0.069027</td>\n",
              "      <td>-0.009294</td>\n",
              "      <td>-0.157586</td>\n",
              "      <td>-0.161015</td>\n",
              "      <td>1.000000</td>\n",
              "      <td>0.069027</td>\n",
              "      <td>0.259730</td>\n",
              "    </tr>\n",
              "    <tr>\n",
              "      <th>CHEST PAIN</th>\n",
              "      <td>-0.018104</td>\n",
              "      <td>0.120117</td>\n",
              "      <td>-0.104829</td>\n",
              "      <td>-0.113634</td>\n",
              "      <td>-0.094828</td>\n",
              "      <td>-0.036938</td>\n",
              "      <td>-0.010832</td>\n",
              "      <td>0.239433</td>\n",
              "      <td>0.147640</td>\n",
              "      <td>0.331226</td>\n",
              "      <td>0.083958</td>\n",
              "      <td>0.024256</td>\n",
              "      <td>0.069027</td>\n",
              "      <td>1.000000</td>\n",
              "      <td>0.190451</td>\n",
              "    </tr>\n",
              "    <tr>\n",
              "      <th>LUNG_CANCER</th>\n",
              "      <td>0.089465</td>\n",
              "      <td>0.058179</td>\n",
              "      <td>0.181339</td>\n",
              "      <td>0.144947</td>\n",
              "      <td>0.186388</td>\n",
              "      <td>0.110891</td>\n",
              "      <td>0.150673</td>\n",
              "      <td>0.327766</td>\n",
              "      <td>0.249300</td>\n",
              "      <td>0.288533</td>\n",
              "      <td>0.248570</td>\n",
              "      <td>0.060738</td>\n",
              "      <td>0.259730</td>\n",
              "      <td>0.190451</td>\n",
              "      <td>1.000000</td>\n",
              "    </tr>\n",
              "  </tbody>\n",
              "</table>\n",
              "</div>"
            ],
            "text/plain": [
              "                            AGE   SMOKING  ...  CHEST PAIN  LUNG_CANCER\n",
              "AGE                    1.000000 -0.084475  ...   -0.018104     0.089465\n",
              "SMOKING               -0.084475  1.000000  ...    0.120117     0.058179\n",
              "YELLOW_FINGERS         0.005205 -0.014585  ...   -0.104829     0.181339\n",
              "ANXIETY                0.053170  0.160267  ...   -0.113634     0.144947\n",
              "PEER_PRESSURE          0.018685 -0.042822  ...   -0.094828     0.186388\n",
              "CHRONIC DISEASE       -0.012642 -0.141522  ...   -0.036938     0.110891\n",
              "FATIGUE                0.012614 -0.029575  ...   -0.010832     0.150673\n",
              "ALLERGY                0.027990  0.001913  ...    0.239433     0.327766\n",
              "WHEEZING               0.055011 -0.129426  ...    0.147640     0.249300\n",
              "ALCOHOL CONSUMING      0.058985 -0.050623  ...    0.331226     0.288533\n",
              "COUGHING               0.169950 -0.129471  ...    0.083958     0.248570\n",
              "SHORTNESS OF BREATH   -0.017513  0.061264  ...    0.024256     0.060738\n",
              "SWALLOWING DIFFICULTY -0.001270  0.030718  ...    0.069027     0.259730\n",
              "CHEST PAIN            -0.018104  0.120117  ...    1.000000     0.190451\n",
              "LUNG_CANCER            0.089465  0.058179  ...    0.190451     1.000000\n",
              "\n",
              "[15 rows x 15 columns]"
            ]
          },
          "metadata": {
            "tags": []
          },
          "execution_count": 13
        }
      ]
    },
    {
      "cell_type": "code",
      "metadata": {
        "id": "fpYNjGe_2MeR"
      },
      "source": [
        "from sklearn.preprocessing import LabelEncoder\n",
        "lb=LabelEncoder()\n"
      ],
      "execution_count": null,
      "outputs": []
    },
    {
      "cell_type": "code",
      "metadata": {
        "colab": {
          "base_uri": "https://localhost:8080/"
        },
        "id": "eu4Rq8lpAXV2",
        "outputId": "4af113ae-c951-4d11-9d97-54e68f75dfbd"
      },
      "source": [
        "\n",
        "y=df.iloc[:,14].values\n",
        "y=lb.fit_transform(y)\n",
        "y"
      ],
      "execution_count": null,
      "outputs": [
        {
          "output_type": "execute_result",
          "data": {
            "text/plain": [
              "array([1, 1, 0, 0, 0, 1, 1, 1, 0, 1, 1, 1, 0, 1, 0, 1, 1, 1, 1, 0, 1, 1,\n",
              "       0, 1, 1, 1, 1, 0, 1, 0, 0, 1, 0, 1, 0, 1, 1, 0, 1, 1, 1, 1, 1, 1,\n",
              "       1, 1, 1, 1, 1, 0, 1, 1, 1, 1, 1, 1, 1, 1, 1, 1, 1, 0, 1, 1, 1, 1,\n",
              "       1, 1, 1, 1, 1, 1, 1, 1, 1, 1, 1, 1, 1, 1, 0, 1, 1, 1, 1, 1, 1, 1,\n",
              "       1, 1, 1, 1, 1, 1, 1, 1, 1, 1, 1, 1, 1, 1, 1, 1, 1, 1, 1, 1, 1, 1,\n",
              "       1, 1, 1, 1, 1, 1, 1, 1, 1, 1, 1, 1, 1, 1, 1, 1, 1, 1, 1, 0, 1, 1,\n",
              "       1, 1, 1, 1, 1, 1, 1, 1, 1, 1, 1, 1, 1, 1, 1, 1, 1, 1, 1, 1, 1, 0,\n",
              "       0, 1, 0, 0, 1, 0, 1, 1, 1, 1, 1, 1, 1, 1, 1, 1, 1, 0, 1, 1, 1, 1,\n",
              "       1, 1, 1, 1, 1, 1, 1, 0, 1, 1, 1, 1, 1, 1, 1, 1, 1, 1, 1, 1, 1, 1,\n",
              "       1, 1, 1, 1, 1, 1, 1, 1, 1, 0, 1, 1, 1, 1, 1, 1, 1, 0, 1, 1, 1, 1,\n",
              "       1, 0, 1, 1, 1, 1, 1, 1, 1, 1, 1, 1, 1, 1, 1, 1, 1, 1, 1, 1, 1, 1,\n",
              "       1, 1, 1, 0, 1, 1, 1, 0, 1, 1, 1, 1, 1, 1, 1, 1, 1, 1, 1, 1, 0, 1,\n",
              "       1, 1, 0, 1, 1, 1, 0, 1, 0, 1, 1, 1, 1, 0, 1, 1, 0, 0, 0, 1, 1, 1,\n",
              "       0, 1, 1, 1, 1, 1, 1, 1, 1, 1, 1, 1, 1, 1, 1, 1, 1, 1, 1, 1, 1, 1,\n",
              "       1])"
            ]
          },
          "metadata": {
            "tags": []
          },
          "execution_count": 24
        }
      ]
    },
    {
      "cell_type": "code",
      "metadata": {
        "colab": {
          "base_uri": "https://localhost:8080/"
        },
        "id": "mdaNvCcJ7B9F",
        "outputId": "d901bbf9-98b5-4fea-8a20-62fcfbf65b06"
      },
      "source": [
        "x=df.iloc[:,1:14].values\n",
        "x"
      ],
      "execution_count": null,
      "outputs": [
        {
          "output_type": "execute_result",
          "data": {
            "text/plain": [
              "array([[1, 2, 2, ..., 2, 2, 2],\n",
              "       [2, 1, 1, ..., 2, 2, 2],\n",
              "       [1, 1, 1, ..., 2, 1, 2],\n",
              "       ...,\n",
              "       [2, 1, 1, ..., 1, 1, 2],\n",
              "       [2, 1, 2, ..., 2, 1, 2],\n",
              "       [1, 1, 1, ..., 1, 2, 1]])"
            ]
          },
          "metadata": {
            "tags": []
          },
          "execution_count": 27
        }
      ]
    },
    {
      "cell_type": "code",
      "metadata": {
        "id": "BuqRyDbyK2D2"
      },
      "source": [
        "from sklearn.model_selection import train_test_split   #spliting the data in train set and test set\n",
        "x_train,x_test,y_train,y_test=train_test_split(x,y,test_size=0.2)"
      ],
      "execution_count": null,
      "outputs": []
    },
    {
      "cell_type": "code",
      "metadata": {
        "colab": {
          "base_uri": "https://localhost:8080/"
        },
        "id": "eMU1uGSmR-rh",
        "outputId": "604eb315-588d-43f2-e375-faf5c003e436"
      },
      "source": [
        "df_train.shape,df_test.shape"
      ],
      "execution_count": null,
      "outputs": [
        {
          "output_type": "execute_result",
          "data": {
            "text/plain": [
              "((247, 15), (62, 15))"
            ]
          },
          "metadata": {
            "tags": []
          },
          "execution_count": 15
        }
      ]
    },
    {
      "cell_type": "code",
      "metadata": {
        "id": "KY6BZ6HW-1rk"
      },
      "source": [
        "import sklearn\n",
        "import numpy as np\n",
        "import seaborn as sns\n",
        "import matplotlib.pyplot as plt\n",
        "from sklearn.ensemble import RandomForestClassifier\n",
        "from sklearn.svm import SVC\n",
        "from sklearn import svm\n",
        "from sklearn.neural_network import MLPClassifier \n",
        "from sklearn.metrics import confusion_matrix, classification_report\n",
        "from sklearn.preprocessing import StandardScaler,LabelEncoder\n",
        "from sklearn.model_selection import train_test_split\n",
        "%matplotlib inline"
      ],
      "execution_count": null,
      "outputs": []
    },
    {
      "cell_type": "code",
      "metadata": {
        "colab": {
          "base_uri": "https://localhost:8080/"
        },
        "id": "G7_v_o6J_Eo8",
        "outputId": "15a9574b-a804-47b3-9139-da7a312637b7"
      },
      "source": [
        "from sklearn.linear_model import LogisticRegression\n",
        "lr=LogisticRegression(solver='lbfgs',max_iter=10000)\n",
        "lr.fit(x_train,y_train)\n",
        "y_pred=lr.predict(x_test)\n",
        "y_pred"
      ],
      "execution_count": null,
      "outputs": [
        {
          "output_type": "execute_result",
          "data": {
            "text/plain": [
              "array([1, 1, 1, 1, 0, 1, 1, 1, 1, 1, 1, 1, 1, 1, 1, 1, 1, 0, 1, 1, 1, 0,\n",
              "       0, 1, 1, 0, 1, 1, 1, 1, 1, 1, 1, 1, 1, 1, 1, 0, 0, 1, 1, 0, 1, 0,\n",
              "       1, 1, 1, 1, 1, 1, 1, 1, 1, 1, 1, 1, 1, 1, 1, 1, 1, 1])"
            ]
          },
          "metadata": {
            "tags": []
          },
          "execution_count": 34
        }
      ]
    },
    {
      "cell_type": "code",
      "metadata": {
        "colab": {
          "base_uri": "https://localhost:8080/"
        },
        "id": "KwJl14BFHi_F",
        "outputId": "cfdd444d-c26a-426c-d970-4a23d18ff5aa"
      },
      "source": [
        "from sklearn.metrics import confusion_matrix\n",
        "confusion_matrix(y_test,y_pred)"
      ],
      "execution_count": null,
      "outputs": [
        {
          "output_type": "execute_result",
          "data": {
            "text/plain": [
              "array([[ 7,  1],\n",
              "       [ 2, 52]])"
            ]
          },
          "metadata": {
            "tags": []
          },
          "execution_count": 35
        }
      ]
    },
    {
      "cell_type": "code",
      "metadata": {
        "id": "8fh8dcSpLH0E"
      },
      "source": [
        "#prediction accuracy 95%"
      ],
      "execution_count": null,
      "outputs": []
    },
    {
      "cell_type": "code",
      "metadata": {
        "colab": {
          "base_uri": "https://localhost:8080/"
        },
        "id": "HmyxhscVHom0",
        "outputId": "92fc7754-45b5-4556-97dd-b839eb7aec75"
      },
      "source": [
        "from sklearn.ensemble import RandomForestClassifier\n",
        "classifier_rf=RandomForestClassifier(n_estimators=3,criterion='entropy')\n",
        "classifier_rf.fit(x_train,y_train)\n",
        "y_pred=classifier_rf.predict(x_test)\n",
        "confusion_matrix(y_test,y_pred)"
      ],
      "execution_count": null,
      "outputs": [
        {
          "output_type": "execute_result",
          "data": {
            "text/plain": [
              "array([[ 7,  1],\n",
              "       [ 2, 52]])"
            ]
          },
          "metadata": {
            "tags": []
          },
          "execution_count": 36
        }
      ]
    },
    {
      "cell_type": "code",
      "metadata": {
        "id": "LpI-zRaUHtEG"
      },
      "source": [
        "#prediction accuracy 95%"
      ],
      "execution_count": null,
      "outputs": []
    },
    {
      "cell_type": "code",
      "metadata": {
        "id": "uupRdK4GYT66"
      },
      "source": [
        "\n",
        "from sklearn.neighbors import KNeighborsClassifier\n",
        "neigh = KNeighborsClassifier() #neigh => model\n",
        "neigh.fit(x_train, y_train) #training the data\n",
        "predictions = neigh.predict(x_test)   #X-test ---> Y_test"
      ],
      "execution_count": null,
      "outputs": []
    },
    {
      "cell_type": "code",
      "metadata": {
        "colab": {
          "base_uri": "https://localhost:8080/"
        },
        "id": "bu4FJo7JbVOM",
        "outputId": "97b4e966-63bc-47be-ad77-b0fdcb19efca"
      },
      "source": [
        "print(classification_report(y_test, predictions))"
      ],
      "execution_count": null,
      "outputs": [
        {
          "output_type": "stream",
          "text": [
            "              precision    recall  f1-score   support\n",
            "\n",
            "           0       0.88      0.88      0.88         8\n",
            "           1       0.98      0.98      0.98        54\n",
            "\n",
            "    accuracy                           0.97        62\n",
            "   macro avg       0.93      0.93      0.93        62\n",
            "weighted avg       0.97      0.97      0.97        62\n",
            "\n"
          ],
          "name": "stdout"
        }
      ]
    },
    {
      "cell_type": "code",
      "metadata": {
        "colab": {
          "base_uri": "https://localhost:8080/"
        },
        "id": "l9qug6KWbcNZ",
        "outputId": "8752a3bf-2d65-42ae-ccc5-969b3e29e4d5"
      },
      "source": [
        "# Confusion Matrix\n",
        "confusion_matrix(y_test,predictions)"
      ],
      "execution_count": null,
      "outputs": [
        {
          "output_type": "execute_result",
          "data": {
            "text/plain": [
              "array([[ 7,  1],\n",
              "       [ 1, 53]])"
            ]
          },
          "metadata": {
            "tags": []
          },
          "execution_count": 39
        }
      ]
    },
    {
      "cell_type": "code",
      "metadata": {
        "id": "iok4RPmxbh2I"
      },
      "source": [
        "#prediction 96.7%"
      ],
      "execution_count": null,
      "outputs": []
    },
    {
      "cell_type": "code",
      "metadata": {
        "id": "9IivbAn4b1fd"
      },
      "source": [
        "from sklearn.tree import DecisionTreeClassifier\n",
        "dtr = DecisionTreeClassifier(random_state=0)\n",
        "dtr.fit(x_train, y_train)\n",
        "predictions = dtr.predict(x_test)\n"
      ],
      "execution_count": null,
      "outputs": []
    },
    {
      "cell_type": "code",
      "metadata": {
        "colab": {
          "base_uri": "https://localhost:8080/"
        },
        "id": "KPXfR7vMfJFU",
        "outputId": "a37fb7f6-e927-4457-b08b-3b38d3c757f7"
      },
      "source": [
        "from sklearn.metrics import classification_report\n",
        "print(classification_report(y_test, predictions))"
      ],
      "execution_count": null,
      "outputs": [
        {
          "output_type": "stream",
          "text": [
            "              precision    recall  f1-score   support\n",
            "\n",
            "           0       0.67      1.00      0.80         8\n",
            "           1       1.00      0.93      0.96        54\n",
            "\n",
            "    accuracy                           0.94        62\n",
            "   macro avg       0.83      0.96      0.88        62\n",
            "weighted avg       0.96      0.94      0.94        62\n",
            "\n"
          ],
          "name": "stdout"
        }
      ]
    },
    {
      "cell_type": "code",
      "metadata": {
        "colab": {
          "base_uri": "https://localhost:8080/"
        },
        "id": "qdQcr87mfOob",
        "outputId": "42894391-b042-4fdb-f5a0-bdac3f6cdd49"
      },
      "source": [
        "confusion_matrix(y_test,predictions)"
      ],
      "execution_count": null,
      "outputs": [
        {
          "output_type": "execute_result",
          "data": {
            "text/plain": [
              "array([[ 8,  0],\n",
              "       [ 4, 50]])"
            ]
          },
          "metadata": {
            "tags": []
          },
          "execution_count": 45
        }
      ]
    },
    {
      "cell_type": "code",
      "metadata": {
        "id": "l60lXhWofUiW"
      },
      "source": [
        "#prediction accuracy 94%"
      ],
      "execution_count": null,
      "outputs": []
    }
  ]
}